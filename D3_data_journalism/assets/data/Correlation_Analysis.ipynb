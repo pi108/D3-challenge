{
 "cells": [
  {
   "cell_type": "code",
   "execution_count": 1,
   "metadata": {
    "scrolled": true
   },
   "outputs": [
    {
     "data": {
      "text/html": [
       "<div>\n",
       "<style scoped>\n",
       "    .dataframe tbody tr th:only-of-type {\n",
       "        vertical-align: middle;\n",
       "    }\n",
       "\n",
       "    .dataframe tbody tr th {\n",
       "        vertical-align: top;\n",
       "    }\n",
       "\n",
       "    .dataframe thead th {\n",
       "        text-align: right;\n",
       "    }\n",
       "</style>\n",
       "<table border=\"1\" class=\"dataframe\">\n",
       "  <thead>\n",
       "    <tr style=\"text-align: right;\">\n",
       "      <th></th>\n",
       "      <th>id</th>\n",
       "      <th>state</th>\n",
       "      <th>abbr</th>\n",
       "      <th>poverty</th>\n",
       "      <th>povertyMoe</th>\n",
       "      <th>age</th>\n",
       "      <th>ageMoe</th>\n",
       "      <th>income</th>\n",
       "      <th>incomeMoe</th>\n",
       "      <th>healthcare</th>\n",
       "      <th>healthcareLow</th>\n",
       "      <th>healthcareHigh</th>\n",
       "      <th>obesity</th>\n",
       "      <th>obesityLow</th>\n",
       "      <th>obesityHigh</th>\n",
       "      <th>smokes</th>\n",
       "      <th>smokesLow</th>\n",
       "      <th>smokesHigh</th>\n",
       "      <th>-0.385218228</th>\n",
       "    </tr>\n",
       "  </thead>\n",
       "  <tbody>\n",
       "    <tr>\n",
       "      <td>0</td>\n",
       "      <td>1</td>\n",
       "      <td>Alabama</td>\n",
       "      <td>AL</td>\n",
       "      <td>19.3</td>\n",
       "      <td>0.5</td>\n",
       "      <td>38.6</td>\n",
       "      <td>0.2</td>\n",
       "      <td>42830</td>\n",
       "      <td>598</td>\n",
       "      <td>13.9</td>\n",
       "      <td>12.7</td>\n",
       "      <td>15.1</td>\n",
       "      <td>33.5</td>\n",
       "      <td>32.1</td>\n",
       "      <td>35.0</td>\n",
       "      <td>21.1</td>\n",
       "      <td>19.8</td>\n",
       "      <td>22.5</td>\n",
       "      <td>NaN</td>\n",
       "    </tr>\n",
       "    <tr>\n",
       "      <td>1</td>\n",
       "      <td>2</td>\n",
       "      <td>Alaska</td>\n",
       "      <td>AK</td>\n",
       "      <td>11.2</td>\n",
       "      <td>0.9</td>\n",
       "      <td>33.3</td>\n",
       "      <td>0.3</td>\n",
       "      <td>71583</td>\n",
       "      <td>1784</td>\n",
       "      <td>15.0</td>\n",
       "      <td>13.3</td>\n",
       "      <td>16.6</td>\n",
       "      <td>29.7</td>\n",
       "      <td>27.8</td>\n",
       "      <td>31.6</td>\n",
       "      <td>19.9</td>\n",
       "      <td>18.2</td>\n",
       "      <td>21.6</td>\n",
       "      <td>NaN</td>\n",
       "    </tr>\n",
       "    <tr>\n",
       "      <td>2</td>\n",
       "      <td>4</td>\n",
       "      <td>Arizona</td>\n",
       "      <td>AZ</td>\n",
       "      <td>18.2</td>\n",
       "      <td>0.4</td>\n",
       "      <td>36.9</td>\n",
       "      <td>0.1</td>\n",
       "      <td>50068</td>\n",
       "      <td>483</td>\n",
       "      <td>14.4</td>\n",
       "      <td>13.3</td>\n",
       "      <td>15.6</td>\n",
       "      <td>28.9</td>\n",
       "      <td>27.7</td>\n",
       "      <td>30.2</td>\n",
       "      <td>16.5</td>\n",
       "      <td>15.4</td>\n",
       "      <td>17.6</td>\n",
       "      <td>NaN</td>\n",
       "    </tr>\n",
       "    <tr>\n",
       "      <td>3</td>\n",
       "      <td>5</td>\n",
       "      <td>Arkansas</td>\n",
       "      <td>AR</td>\n",
       "      <td>18.9</td>\n",
       "      <td>0.5</td>\n",
       "      <td>37.8</td>\n",
       "      <td>0.2</td>\n",
       "      <td>41262</td>\n",
       "      <td>653</td>\n",
       "      <td>16.3</td>\n",
       "      <td>14.4</td>\n",
       "      <td>18.2</td>\n",
       "      <td>35.9</td>\n",
       "      <td>33.8</td>\n",
       "      <td>38.0</td>\n",
       "      <td>24.7</td>\n",
       "      <td>22.7</td>\n",
       "      <td>26.7</td>\n",
       "      <td>NaN</td>\n",
       "    </tr>\n",
       "    <tr>\n",
       "      <td>4</td>\n",
       "      <td>6</td>\n",
       "      <td>California</td>\n",
       "      <td>CA</td>\n",
       "      <td>16.4</td>\n",
       "      <td>0.2</td>\n",
       "      <td>36.0</td>\n",
       "      <td>0.1</td>\n",
       "      <td>61933</td>\n",
       "      <td>238</td>\n",
       "      <td>14.8</td>\n",
       "      <td>13.8</td>\n",
       "      <td>15.8</td>\n",
       "      <td>24.7</td>\n",
       "      <td>23.5</td>\n",
       "      <td>25.9</td>\n",
       "      <td>12.9</td>\n",
       "      <td>11.9</td>\n",
       "      <td>13.8</td>\n",
       "      <td>NaN</td>\n",
       "    </tr>\n",
       "    <tr>\n",
       "      <td>5</td>\n",
       "      <td>8</td>\n",
       "      <td>Colorado</td>\n",
       "      <td>CO</td>\n",
       "      <td>12.0</td>\n",
       "      <td>0.4</td>\n",
       "      <td>36.3</td>\n",
       "      <td>0.1</td>\n",
       "      <td>61303</td>\n",
       "      <td>487</td>\n",
       "      <td>12.8</td>\n",
       "      <td>11.9</td>\n",
       "      <td>13.6</td>\n",
       "      <td>21.3</td>\n",
       "      <td>20.4</td>\n",
       "      <td>22.2</td>\n",
       "      <td>15.7</td>\n",
       "      <td>14.8</td>\n",
       "      <td>16.6</td>\n",
       "      <td>NaN</td>\n",
       "    </tr>\n",
       "    <tr>\n",
       "      <td>6</td>\n",
       "      <td>9</td>\n",
       "      <td>Connecticut</td>\n",
       "      <td>CT</td>\n",
       "      <td>10.8</td>\n",
       "      <td>0.5</td>\n",
       "      <td>40.5</td>\n",
       "      <td>0.2</td>\n",
       "      <td>70048</td>\n",
       "      <td>828</td>\n",
       "      <td>8.7</td>\n",
       "      <td>7.6</td>\n",
       "      <td>9.7</td>\n",
       "      <td>26.3</td>\n",
       "      <td>24.8</td>\n",
       "      <td>27.7</td>\n",
       "      <td>15.4</td>\n",
       "      <td>14.2</td>\n",
       "      <td>16.7</td>\n",
       "      <td>NaN</td>\n",
       "    </tr>\n",
       "    <tr>\n",
       "      <td>7</td>\n",
       "      <td>10</td>\n",
       "      <td>Delaware</td>\n",
       "      <td>DE</td>\n",
       "      <td>12.5</td>\n",
       "      <td>0.9</td>\n",
       "      <td>39.6</td>\n",
       "      <td>0.3</td>\n",
       "      <td>59716</td>\n",
       "      <td>1674</td>\n",
       "      <td>8.7</td>\n",
       "      <td>7.4</td>\n",
       "      <td>9.9</td>\n",
       "      <td>30.7</td>\n",
       "      <td>28.6</td>\n",
       "      <td>32.7</td>\n",
       "      <td>19.9</td>\n",
       "      <td>17.9</td>\n",
       "      <td>21.8</td>\n",
       "      <td>NaN</td>\n",
       "    </tr>\n",
       "    <tr>\n",
       "      <td>8</td>\n",
       "      <td>11</td>\n",
       "      <td>Washington D.C.</td>\n",
       "      <td>DC</td>\n",
       "      <td>17.7</td>\n",
       "      <td>1.2</td>\n",
       "      <td>33.8</td>\n",
       "      <td>0.2</td>\n",
       "      <td>71648</td>\n",
       "      <td>1996</td>\n",
       "      <td>8.3</td>\n",
       "      <td>6.3</td>\n",
       "      <td>10.3</td>\n",
       "      <td>21.7</td>\n",
       "      <td>19.5</td>\n",
       "      <td>23.9</td>\n",
       "      <td>16.4</td>\n",
       "      <td>14.2</td>\n",
       "      <td>18.6</td>\n",
       "      <td>NaN</td>\n",
       "    </tr>\n",
       "    <tr>\n",
       "      <td>9</td>\n",
       "      <td>12</td>\n",
       "      <td>Florida</td>\n",
       "      <td>FL</td>\n",
       "      <td>16.5</td>\n",
       "      <td>0.3</td>\n",
       "      <td>41.6</td>\n",
       "      <td>0.1</td>\n",
       "      <td>47463</td>\n",
       "      <td>329</td>\n",
       "      <td>17.6</td>\n",
       "      <td>16.4</td>\n",
       "      <td>18.8</td>\n",
       "      <td>26.2</td>\n",
       "      <td>25.0</td>\n",
       "      <td>27.5</td>\n",
       "      <td>17.7</td>\n",
       "      <td>16.5</td>\n",
       "      <td>18.8</td>\n",
       "      <td>NaN</td>\n",
       "    </tr>\n",
       "  </tbody>\n",
       "</table>\n",
       "</div>"
      ],
      "text/plain": [
       "   id            state abbr  poverty  povertyMoe   age  ageMoe  income  \\\n",
       "0   1          Alabama   AL     19.3         0.5  38.6     0.2   42830   \n",
       "1   2           Alaska   AK     11.2         0.9  33.3     0.3   71583   \n",
       "2   4          Arizona   AZ     18.2         0.4  36.9     0.1   50068   \n",
       "3   5         Arkansas   AR     18.9         0.5  37.8     0.2   41262   \n",
       "4   6       California   CA     16.4         0.2  36.0     0.1   61933   \n",
       "5   8         Colorado   CO     12.0         0.4  36.3     0.1   61303   \n",
       "6   9      Connecticut   CT     10.8         0.5  40.5     0.2   70048   \n",
       "7  10         Delaware   DE     12.5         0.9  39.6     0.3   59716   \n",
       "8  11  Washington D.C.   DC     17.7         1.2  33.8     0.2   71648   \n",
       "9  12          Florida   FL     16.5         0.3  41.6     0.1   47463   \n",
       "\n",
       "   incomeMoe  healthcare  healthcareLow  healthcareHigh  obesity  obesityLow  \\\n",
       "0        598        13.9           12.7            15.1     33.5        32.1   \n",
       "1       1784        15.0           13.3            16.6     29.7        27.8   \n",
       "2        483        14.4           13.3            15.6     28.9        27.7   \n",
       "3        653        16.3           14.4            18.2     35.9        33.8   \n",
       "4        238        14.8           13.8            15.8     24.7        23.5   \n",
       "5        487        12.8           11.9            13.6     21.3        20.4   \n",
       "6        828         8.7            7.6             9.7     26.3        24.8   \n",
       "7       1674         8.7            7.4             9.9     30.7        28.6   \n",
       "8       1996         8.3            6.3            10.3     21.7        19.5   \n",
       "9        329        17.6           16.4            18.8     26.2        25.0   \n",
       "\n",
       "   obesityHigh  smokes  smokesLow  smokesHigh  -0.385218228  \n",
       "0         35.0    21.1       19.8        22.5           NaN  \n",
       "1         31.6    19.9       18.2        21.6           NaN  \n",
       "2         30.2    16.5       15.4        17.6           NaN  \n",
       "3         38.0    24.7       22.7        26.7           NaN  \n",
       "4         25.9    12.9       11.9        13.8           NaN  \n",
       "5         22.2    15.7       14.8        16.6           NaN  \n",
       "6         27.7    15.4       14.2        16.7           NaN  \n",
       "7         32.7    19.9       17.9        21.8           NaN  \n",
       "8         23.9    16.4       14.2        18.6           NaN  \n",
       "9         27.5    17.7       16.5        18.8           NaN  "
      ]
     },
     "execution_count": 1,
     "metadata": {},
     "output_type": "execute_result"
    }
   ],
   "source": [
    "import matplotlib.pyplot as plt\n",
    "import numpy as np\n",
    "import pandas as pd\n",
    "import scipy.stats as stats\n",
    "from datetime import datetime\n",
    "\n",
    "# df_path = \"Output/01_Exploration_and_Cleanup/v3_clean_data_created_percentage_changes.xlsx\"\n",
    "# df = pd.read_excel(df_path)\n",
    "\n",
    "file_to_open = \"data.csv\"\n",
    "df = pd.read_csv(file_to_open)\n",
    "\n",
    "df.head(10)\n",
    "#df.shape\n"
   ]
  },
  {
   "cell_type": "code",
   "execution_count": 2,
   "metadata": {},
   "outputs": [
    {
     "data": {
      "text/plain": [
       "(51, 19)"
      ]
     },
     "execution_count": 2,
     "metadata": {},
     "output_type": "execute_result"
    }
   ],
   "source": [
    "df.shape"
   ]
  },
  {
   "cell_type": "code",
   "execution_count": 3,
   "metadata": {},
   "outputs": [
    {
     "data": {
      "text/plain": [
       "Index(['id', 'state', 'abbr', 'poverty', 'povertyMoe', 'age', 'ageMoe',\n",
       "       'income', 'incomeMoe', 'healthcare', 'healthcareLow', 'healthcareHigh',\n",
       "       'obesity', 'obesityLow', 'obesityHigh', 'smokes', 'smokesLow',\n",
       "       'smokesHigh', '-0.385218228'],\n",
       "      dtype='object')"
      ]
     },
     "execution_count": 3,
     "metadata": {},
     "output_type": "execute_result"
    }
   ],
   "source": [
    "df.columns"
   ]
  },
  {
   "cell_type": "code",
   "execution_count": 4,
   "metadata": {},
   "outputs": [
    {
     "data": {
      "text/plain": [
       "id                  int64\n",
       "state              object\n",
       "abbr               object\n",
       "poverty           float64\n",
       "povertyMoe        float64\n",
       "age               float64\n",
       "ageMoe            float64\n",
       "income              int64\n",
       "incomeMoe           int64\n",
       "healthcare        float64\n",
       "healthcareLow     float64\n",
       "healthcareHigh    float64\n",
       "obesity           float64\n",
       "obesityLow        float64\n",
       "obesityHigh       float64\n",
       "smokes            float64\n",
       "smokesLow         float64\n",
       "smokesHigh        float64\n",
       "-0.385218228      float64\n",
       "dtype: object"
      ]
     },
     "execution_count": 4,
     "metadata": {},
     "output_type": "execute_result"
    }
   ],
   "source": [
    "df.dtypes"
   ]
  },
  {
   "cell_type": "code",
   "execution_count": 5,
   "metadata": {},
   "outputs": [
    {
     "data": {
      "text/html": [
       "<div>\n",
       "<style scoped>\n",
       "    .dataframe tbody tr th:only-of-type {\n",
       "        vertical-align: middle;\n",
       "    }\n",
       "\n",
       "    .dataframe tbody tr th {\n",
       "        vertical-align: top;\n",
       "    }\n",
       "\n",
       "    .dataframe thead th {\n",
       "        text-align: right;\n",
       "    }\n",
       "</style>\n",
       "<table border=\"1\" class=\"dataframe\">\n",
       "  <thead>\n",
       "    <tr style=\"text-align: right;\">\n",
       "      <th></th>\n",
       "      <th>id</th>\n",
       "      <th>poverty</th>\n",
       "      <th>povertyMoe</th>\n",
       "      <th>age</th>\n",
       "      <th>ageMoe</th>\n",
       "      <th>income</th>\n",
       "      <th>incomeMoe</th>\n",
       "      <th>healthcare</th>\n",
       "      <th>healthcareLow</th>\n",
       "      <th>healthcareHigh</th>\n",
       "      <th>obesity</th>\n",
       "      <th>obesityLow</th>\n",
       "      <th>obesityHigh</th>\n",
       "      <th>smokes</th>\n",
       "      <th>smokesLow</th>\n",
       "      <th>smokesHigh</th>\n",
       "      <th>-0.385218228</th>\n",
       "    </tr>\n",
       "  </thead>\n",
       "  <tbody>\n",
       "    <tr>\n",
       "      <td>count</td>\n",
       "      <td>51.000000</td>\n",
       "      <td>51.000000</td>\n",
       "      <td>51.000000</td>\n",
       "      <td>51.000000</td>\n",
       "      <td>51.000000</td>\n",
       "      <td>51.000000</td>\n",
       "      <td>51.000000</td>\n",
       "      <td>51.000000</td>\n",
       "      <td>51.000000</td>\n",
       "      <td>51.000000</td>\n",
       "      <td>51.000000</td>\n",
       "      <td>51.000000</td>\n",
       "      <td>51.000000</td>\n",
       "      <td>51.000000</td>\n",
       "      <td>51.000000</td>\n",
       "      <td>51.000000</td>\n",
       "      <td>0.0</td>\n",
       "    </tr>\n",
       "    <tr>\n",
       "      <td>mean</td>\n",
       "      <td>28.960784</td>\n",
       "      <td>14.866667</td>\n",
       "      <td>0.531373</td>\n",
       "      <td>37.972549</td>\n",
       "      <td>0.174510</td>\n",
       "      <td>54453.607843</td>\n",
       "      <td>807.176471</td>\n",
       "      <td>12.627451</td>\n",
       "      <td>11.427451</td>\n",
       "      <td>13.833333</td>\n",
       "      <td>29.225490</td>\n",
       "      <td>27.747059</td>\n",
       "      <td>30.719608</td>\n",
       "      <td>18.460784</td>\n",
       "      <td>17.129412</td>\n",
       "      <td>19.798039</td>\n",
       "      <td>NaN</td>\n",
       "    </tr>\n",
       "    <tr>\n",
       "      <td>std</td>\n",
       "      <td>15.832828</td>\n",
       "      <td>3.085882</td>\n",
       "      <td>0.227588</td>\n",
       "      <td>2.447045</td>\n",
       "      <td>0.077054</td>\n",
       "      <td>9227.682697</td>\n",
       "      <td>470.320772</td>\n",
       "      <td>3.948067</td>\n",
       "      <td>3.825916</td>\n",
       "      <td>4.108073</td>\n",
       "      <td>3.416773</td>\n",
       "      <td>3.351319</td>\n",
       "      <td>3.515225</td>\n",
       "      <td>3.447612</td>\n",
       "      <td>3.300078</td>\n",
       "      <td>3.625824</td>\n",
       "      <td>NaN</td>\n",
       "    </tr>\n",
       "    <tr>\n",
       "      <td>min</td>\n",
       "      <td>1.000000</td>\n",
       "      <td>9.200000</td>\n",
       "      <td>0.200000</td>\n",
       "      <td>30.500000</td>\n",
       "      <td>0.100000</td>\n",
       "      <td>39680.000000</td>\n",
       "      <td>238.000000</td>\n",
       "      <td>4.600000</td>\n",
       "      <td>4.000000</td>\n",
       "      <td>5.200000</td>\n",
       "      <td>21.300000</td>\n",
       "      <td>19.500000</td>\n",
       "      <td>22.200000</td>\n",
       "      <td>9.700000</td>\n",
       "      <td>9.000000</td>\n",
       "      <td>10.300000</td>\n",
       "      <td>NaN</td>\n",
       "    </tr>\n",
       "    <tr>\n",
       "      <td>25%</td>\n",
       "      <td>16.500000</td>\n",
       "      <td>12.100000</td>\n",
       "      <td>0.400000</td>\n",
       "      <td>36.450000</td>\n",
       "      <td>0.100000</td>\n",
       "      <td>47695.000000</td>\n",
       "      <td>477.000000</td>\n",
       "      <td>9.950000</td>\n",
       "      <td>8.600000</td>\n",
       "      <td>11.100000</td>\n",
       "      <td>27.150000</td>\n",
       "      <td>25.650000</td>\n",
       "      <td>28.500000</td>\n",
       "      <td>16.300000</td>\n",
       "      <td>14.800000</td>\n",
       "      <td>17.500000</td>\n",
       "      <td>NaN</td>\n",
       "    </tr>\n",
       "    <tr>\n",
       "      <td>50%</td>\n",
       "      <td>29.000000</td>\n",
       "      <td>14.800000</td>\n",
       "      <td>0.500000</td>\n",
       "      <td>38.100000</td>\n",
       "      <td>0.200000</td>\n",
       "      <td>52622.000000</td>\n",
       "      <td>653.000000</td>\n",
       "      <td>12.500000</td>\n",
       "      <td>11.500000</td>\n",
       "      <td>13.400000</td>\n",
       "      <td>29.600000</td>\n",
       "      <td>27.800000</td>\n",
       "      <td>31.100000</td>\n",
       "      <td>18.100000</td>\n",
       "      <td>16.900000</td>\n",
       "      <td>19.000000</td>\n",
       "      <td>NaN</td>\n",
       "    </tr>\n",
       "    <tr>\n",
       "      <td>75%</td>\n",
       "      <td>41.500000</td>\n",
       "      <td>17.200000</td>\n",
       "      <td>0.700000</td>\n",
       "      <td>39.400000</td>\n",
       "      <td>0.200000</td>\n",
       "      <td>61112.500000</td>\n",
       "      <td>992.000000</td>\n",
       "      <td>14.900000</td>\n",
       "      <td>13.750000</td>\n",
       "      <td>16.250000</td>\n",
       "      <td>31.250000</td>\n",
       "      <td>29.900000</td>\n",
       "      <td>32.950000</td>\n",
       "      <td>20.250000</td>\n",
       "      <td>19.000000</td>\n",
       "      <td>21.950000</td>\n",
       "      <td>NaN</td>\n",
       "    </tr>\n",
       "    <tr>\n",
       "      <td>max</td>\n",
       "      <td>56.000000</td>\n",
       "      <td>21.500000</td>\n",
       "      <td>1.200000</td>\n",
       "      <td>44.100000</td>\n",
       "      <td>0.400000</td>\n",
       "      <td>73971.000000</td>\n",
       "      <td>1996.000000</td>\n",
       "      <td>24.900000</td>\n",
       "      <td>23.700000</td>\n",
       "      <td>26.100000</td>\n",
       "      <td>35.900000</td>\n",
       "      <td>34.200000</td>\n",
       "      <td>38.000000</td>\n",
       "      <td>26.700000</td>\n",
       "      <td>25.200000</td>\n",
       "      <td>28.100000</td>\n",
       "      <td>NaN</td>\n",
       "    </tr>\n",
       "  </tbody>\n",
       "</table>\n",
       "</div>"
      ],
      "text/plain": [
       "              id    poverty  povertyMoe        age     ageMoe        income  \\\n",
       "count  51.000000  51.000000   51.000000  51.000000  51.000000     51.000000   \n",
       "mean   28.960784  14.866667    0.531373  37.972549   0.174510  54453.607843   \n",
       "std    15.832828   3.085882    0.227588   2.447045   0.077054   9227.682697   \n",
       "min     1.000000   9.200000    0.200000  30.500000   0.100000  39680.000000   \n",
       "25%    16.500000  12.100000    0.400000  36.450000   0.100000  47695.000000   \n",
       "50%    29.000000  14.800000    0.500000  38.100000   0.200000  52622.000000   \n",
       "75%    41.500000  17.200000    0.700000  39.400000   0.200000  61112.500000   \n",
       "max    56.000000  21.500000    1.200000  44.100000   0.400000  73971.000000   \n",
       "\n",
       "         incomeMoe  healthcare  healthcareLow  healthcareHigh    obesity  \\\n",
       "count    51.000000   51.000000      51.000000       51.000000  51.000000   \n",
       "mean    807.176471   12.627451      11.427451       13.833333  29.225490   \n",
       "std     470.320772    3.948067       3.825916        4.108073   3.416773   \n",
       "min     238.000000    4.600000       4.000000        5.200000  21.300000   \n",
       "25%     477.000000    9.950000       8.600000       11.100000  27.150000   \n",
       "50%     653.000000   12.500000      11.500000       13.400000  29.600000   \n",
       "75%     992.000000   14.900000      13.750000       16.250000  31.250000   \n",
       "max    1996.000000   24.900000      23.700000       26.100000  35.900000   \n",
       "\n",
       "       obesityLow  obesityHigh     smokes  smokesLow  smokesHigh  -0.385218228  \n",
       "count   51.000000    51.000000  51.000000  51.000000   51.000000           0.0  \n",
       "mean    27.747059    30.719608  18.460784  17.129412   19.798039           NaN  \n",
       "std      3.351319     3.515225   3.447612   3.300078    3.625824           NaN  \n",
       "min     19.500000    22.200000   9.700000   9.000000   10.300000           NaN  \n",
       "25%     25.650000    28.500000  16.300000  14.800000   17.500000           NaN  \n",
       "50%     27.800000    31.100000  18.100000  16.900000   19.000000           NaN  \n",
       "75%     29.900000    32.950000  20.250000  19.000000   21.950000           NaN  \n",
       "max     34.200000    38.000000  26.700000  25.200000   28.100000           NaN  "
      ]
     },
     "execution_count": 5,
     "metadata": {},
     "output_type": "execute_result"
    }
   ],
   "source": [
    "df.describe()"
   ]
  },
  {
   "cell_type": "code",
   "execution_count": 8,
   "metadata": {},
   "outputs": [
    {
     "data": {
      "text/plain": [
       "id                51\n",
       "state             51\n",
       "abbr              51\n",
       "poverty           51\n",
       "povertyMoe        51\n",
       "age               51\n",
       "ageMoe            51\n",
       "income            51\n",
       "incomeMoe         51\n",
       "healthcare        51\n",
       "healthcareLow     51\n",
       "healthcareHigh    51\n",
       "obesity           51\n",
       "obesityLow        51\n",
       "obesityHigh       51\n",
       "smokes            51\n",
       "smokesLow         51\n",
       "smokesHigh        51\n",
       "-0.385218228       0\n",
       "dtype: int64"
      ]
     },
     "execution_count": 8,
     "metadata": {},
     "output_type": "execute_result"
    }
   ],
   "source": [
    "df.count()"
   ]
  },
  {
   "cell_type": "code",
   "execution_count": 19,
   "metadata": {},
   "outputs": [],
   "source": [
    "#Define the scatter plot\n",
    "def cccscatter(x_axis,y_axis,a,b,c):\n",
    "    x_values = x_axis\n",
    "    y_values = y_axis\n",
    "    \n",
    "    \n",
    "    line_position_x = x_values.min()\n",
    "    line_position_y = (y_values.max())*0.99\n",
    "    r_position_x = x_values.min()\n",
    "    r_position_y = y_values.max()*0.96\n",
    "    r_squared_position_x = x_values.min()\n",
    "    r_squared_position_y = y_values.max()*0.93\n",
    "    \n",
    "    \n",
    "    plt.scatter(x_values,y_values)\n",
    "    plt.title(a)\n",
    "    plt.xlabel(b)\n",
    "    plt.ylabel(c)    \n",
    "    #Perform linear regression\n",
    "    (slope, intercept, rvalue, pvalue, stderr) = stats.linregress(x_values, y_values)\n",
    "    # Get regression values\n",
    "    # y = mx + b\n",
    "    regress_values = x_values * slope + intercept\n",
    "    #print(regress_values)\n",
    "    # Create line equation string\n",
    "    line_eq = \"y = \" + str(round(slope,2)) + \"x +\" + str(round(intercept,2))\n",
    "    \n",
    "    \n",
    "    r_value_eq = \"R = \" + str(round(rvalue,2))\n",
    "    r_squared = rvalue * rvalue\n",
    "    r_squared_value_eq = \"R Sqd = \" + str(round(r_squared,2))\n",
    "    \n",
    "    \n",
    "    print(line_eq)\n",
    "    plt.plot(x_values,regress_values,\"r-\")\n",
    "    plt.annotate(line_eq,(line_position_x,line_position_y),fontsize=12,color=\"red\")\n",
    "    plt.annotate(r_value_eq, (r_position_x,r_position_y),fontsize=12,color=\"black\")\n",
    "    plt.annotate(r_squared_value_eq, (r_squared_position_x,r_squared_position_y),fontsize=12,color=\"brown\")\n",
    "    # Print r square value\n",
    "    print(f\"The r (Correlation) is: {round(rvalue,2)}\")\n",
    "    # Show plot\n",
    "    plt.savefig(\"Correlation_Analysis\" + a + \".png\")\n",
    "    plt.show()\n",
    "\n"
   ]
  },
  {
   "cell_type": "code",
   "execution_count": null,
   "metadata": {},
   "outputs": [],
   "source": []
  },
  {
   "cell_type": "code",
   "execution_count": null,
   "metadata": {},
   "outputs": [],
   "source": []
  },
  {
   "cell_type": "code",
   "execution_count": 140,
   "metadata": {},
   "outputs": [],
   "source": [
    "#==================================================\n",
    "# POVERTY vs OBESITY\n",
    "#==================================================\n"
   ]
  },
  {
   "cell_type": "code",
   "execution_count": 26,
   "metadata": {},
   "outputs": [
    {
     "name": "stdout",
     "output_type": "stream",
     "text": [
      "y = 0.51x +21.61\n",
      "The r (Correlation) is: 0.46\n"
     ]
    },
    {
     "data": {
      "image/png": "[encoded data removed]",
      "text/plain": [
       "<Figure size 432x288 with 1 Axes>"
      ]
     },
     "metadata": {
      "needs_background": "light"
     },
     "output_type": "display_data"
    }
   ],
   "source": [
    "# Identify the columns to be plotted\n",
    "poverty_df = df[\"poverty\"]\n",
    "obesity_df = df[\"obesity\"]\n",
    "\n",
    "# Define x and y variables\n",
    "x = poverty_df\n",
    "y = obesity_df\n",
    "\n",
    "\n",
    "# pass the variables to the scatter function\n",
    "cccscatter(x,y,\"Poverty vs Obesity\",\"Poverty (%)\",\"Obesity\")\n",
    "\n",
    "\n",
    "            "
   ]
  },
  {
   "cell_type": "code",
   "execution_count": null,
   "metadata": {},
   "outputs": [],
   "source": []
  },
  {
   "cell_type": "code",
   "execution_count": null,
   "metadata": {},
   "outputs": [],
   "source": [
    "#==================================================\n",
    "# POVERTY vs SMOKING\n",
    "#=================================================="
   ]
  },
  {
   "cell_type": "code",
   "execution_count": 27,
   "metadata": {},
   "outputs": [
    {
     "name": "stdout",
     "output_type": "stream",
     "text": [
      "y = 0.58x +9.81\n",
      "The r (Correlation) is: 0.52\n"
     ]
    },
    {
     "data": {
      "image/png": "[encoded data removed]",
      "text/plain": [
       "<Figure size 432x288 with 1 Axes>"
      ]
     },
     "metadata": {
      "needs_background": "light"
     },
     "output_type": "display_data"
    }
   ],
   "source": [
    "# Identify the columns to be plotted\n",
    "poverty_df = df[\"poverty\"]\n",
    "smokes_df = df[\"smokes\"]\n",
    "\n",
    "# Define x and y variables\n",
    "x = poverty_df\n",
    "y = smokes_df\n",
    "\n",
    "\n",
    "# pass the variables to the scatter function\n",
    "cccscatter(x,y,\"Poverty vs Smoking\",\"Poverty (%)\",\"Smoking\")\n"
   ]
  },
  {
   "cell_type": "code",
   "execution_count": null,
   "metadata": {},
   "outputs": [],
   "source": []
  },
  {
   "cell_type": "code",
   "execution_count": null,
   "metadata": {},
   "outputs": [],
   "source": [
    "#==================================================\n",
    "# POVERTY vs HEALTHCARE\n",
    "#=================================================="
   ]
  },
  {
   "cell_type": "code",
   "execution_count": 28,
   "metadata": {},
   "outputs": [
    {
     "name": "stdout",
     "output_type": "stream",
     "text": [
      "y = 0.67x +2.65\n",
      "The r (Correlation) is: 0.52\n"
     ]
    },
    {
     "data": {
      "image/png": "[encoded data removed]",
      "text/plain": [
       "<Figure size 432x288 with 1 Axes>"
      ]
     },
     "metadata": {
      "needs_background": "light"
     },
     "output_type": "display_data"
    }
   ],
   "source": [
    "# Identify the columns to be plotted\n",
    "poverty_df = df[\"poverty\"]\n",
    "healthcare_df = df[\"healthcare\"]\n",
    "\n",
    "# Define x and y variables\n",
    "x = poverty_df\n",
    "y = healthcare_df\n",
    "\n",
    "\n",
    "# pass the variables to the scatter function\n",
    "cccscatter(x,y,\"Poverty vs Lack of Healthcare\",\"Poverty (%)\",\"Healthcare\")\n"
   ]
  },
  {
   "cell_type": "code",
   "execution_count": null,
   "metadata": {},
   "outputs": [],
   "source": []
  },
  {
   "cell_type": "code",
   "execution_count": 25,
   "metadata": {},
   "outputs": [],
   "source": [
    "#==================================================\n",
    "# AGE vs OBESITY\n",
    "#=================================================="
   ]
  },
  {
   "cell_type": "code",
   "execution_count": 29,
   "metadata": {},
   "outputs": [
    {
     "name": "stdout",
     "output_type": "stream",
     "text": [
      "y = -0.01x +29.63\n",
      "The r (Correlation) is: -0.01\n"
     ]
    },
    {
     "data": {
      "image/png": "[encoded data removed]",
      "text/plain": [
       "<Figure size 432x288 with 1 Axes>"
      ]
     },
     "metadata": {
      "needs_background": "light"
     },
     "output_type": "display_data"
    }
   ],
   "source": [
    "# Identify the columns to be plotted\n",
    "age_df = df[\"age\"]\n",
    "obesity_df = df[\"obesity\"]\n",
    "\n",
    "# Define x and y variables\n",
    "x = age_df\n",
    "y = obesity_df\n",
    "\n",
    "\n",
    "# pass the variables to the scatter function\n",
    "cccscatter(x,y,\"Age vs Obesity\",\"Age\",\"Obesity\")\n"
   ]
  },
  {
   "cell_type": "code",
   "execution_count": null,
   "metadata": {},
   "outputs": [],
   "source": []
  },
  {
   "cell_type": "code",
   "execution_count": null,
   "metadata": {},
   "outputs": [],
   "source": [
    "#==================================================\n",
    "# AGE vs SMOKING\n",
    "#=================================================="
   ]
  },
  {
   "cell_type": "code",
   "execution_count": 30,
   "metadata": {},
   "outputs": [
    {
     "name": "stdout",
     "output_type": "stream",
     "text": [
      "y = 0.35x +5.19\n",
      "The r (Correlation) is: 0.25\n"
     ]
    },
    {
     "data": {
      "image/png": "[encoded data removed]",
      "text/plain": [
       "<Figure size 432x288 with 1 Axes>"
      ]
     },
     "metadata": {
      "needs_background": "light"
     },
     "output_type": "display_data"
    }
   ],
   "source": [
    "# Identify the columns to be plotted\n",
    "age_df = df[\"age\"]\n",
    "smokes_df = df[\"smokes\"]\n",
    "\n",
    "# Define x and y variables\n",
    "x = age_df\n",
    "y = smokes_df\n",
    "\n",
    "\n",
    "# pass the variables to the scatter function\n",
    "cccscatter(x,y,\"Age vs Smoking\",\"Age\",\"Smoking\")\n"
   ]
  },
  {
   "cell_type": "code",
   "execution_count": null,
   "metadata": {},
   "outputs": [],
   "source": []
  },
  {
   "cell_type": "code",
   "execution_count": null,
   "metadata": {},
   "outputs": [],
   "source": [
    "#==================================================\n",
    "# AGE vs HEALTHCARE\n",
    "#=================================================="
   ]
  },
  {
   "cell_type": "code",
   "execution_count": 31,
   "metadata": {},
   "outputs": [
    {
     "name": "stdout",
     "output_type": "stream",
     "text": [
      "y = -0.62x +36.23\n",
      "The r (Correlation) is: -0.39\n"
     ]
    },
    {
     "data": {
      "image/png": "[encoded data removed]",
      "text/plain": [
       "<Figure size 432x288 with 1 Axes>"
      ]
     },
     "metadata": {
      "needs_background": "light"
     },
     "output_type": "display_data"
    }
   ],
   "source": [
    "# Identify the columns to be plotted\n",
    "age_df = df[\"age\"]\n",
    "healthcare_df = df[\"healthcare\"]\n",
    "\n",
    "# Define x and y variables\n",
    "x = age_df\n",
    "y = healthcare_df\n",
    "\n",
    "\n",
    "# pass the variables to the scatter function\n",
    "cccscatter(x,y,\"Age vs Healthcare\",\"Age\",\"Healthcare\")"
   ]
  },
  {
   "cell_type": "code",
   "execution_count": null,
   "metadata": {},
   "outputs": [],
   "source": []
  },
  {
   "cell_type": "code",
   "execution_count": null,
   "metadata": {},
   "outputs": [],
   "source": [
    "#==================================================\n",
    "# HOUSEHOLD INCOME vs OBESITY\n",
    "#=================================================="
   ]
  },
  {
   "cell_type": "code",
   "execution_count": 32,
   "metadata": {},
   "outputs": [
    {
     "name": "stdout",
     "output_type": "stream",
     "text": [
      "y = -0.0x +42.35\n",
      "The r (Correlation) is: -0.65\n"
     ]
    },
    {
     "data": {
      "image/png": "[encoded data removed]",
      "text/plain": [
       "<Figure size 432x288 with 1 Axes>"
      ]
     },
     "metadata": {
      "needs_background": "light"
     },
     "output_type": "display_data"
    }
   ],
   "source": [
    "# Identify the columns to be plotted\n",
    "income_df = df[\"income\"]\n",
    "obesity_df = df[\"obesity\"]\n",
    "\n",
    "# Define x and y variables\n",
    "x = income_df\n",
    "y = obesity_df\n",
    "\n",
    "\n",
    "# pass the variables to the scatter function\n",
    "cccscatter(x,y,\"Income vs Obesity\",\"Income\",\"Obesity\")"
   ]
  },
  {
   "cell_type": "code",
   "execution_count": null,
   "metadata": {},
   "outputs": [],
   "source": []
  },
  {
   "cell_type": "code",
   "execution_count": null,
   "metadata": {},
   "outputs": [],
   "source": [
    "#==================================================\n",
    "# HOUSEHOLD INCOME vs SMOKING\n",
    "#=================================================="
   ]
  },
  {
   "cell_type": "code",
   "execution_count": 33,
   "metadata": {},
   "outputs": [
    {
     "name": "stdout",
     "output_type": "stream",
     "text": [
      "y = -0.0x +31.89\n",
      "The r (Correlation) is: -0.66\n"
     ]
    },
    {
     "data": {
      "image/png": "[encoded data removed]",
      "text/plain": [
       "<Figure size 432x288 with 1 Axes>"
      ]
     },
     "metadata": {
      "needs_background": "light"
     },
     "output_type": "display_data"
    }
   ],
   "source": [
    "# Identify the columns to be plotted\n",
    "income_df = df[\"income\"]\n",
    "smokes_df = df[\"smokes\"]\n",
    "\n",
    "# Define x and y variables\n",
    "x = income_df\n",
    "y = smokes_df\n",
    "\n",
    "\n",
    "# pass the variables to the scatter function\n",
    "cccscatter(x,y,\"Income vs Smoking\",\"Income\",\"Smoking\")"
   ]
  },
  {
   "cell_type": "code",
   "execution_count": null,
   "metadata": {},
   "outputs": [],
   "source": []
  },
  {
   "cell_type": "code",
   "execution_count": null,
   "metadata": {},
   "outputs": [],
   "source": [
    "#==================================================\n",
    "# HOUSEHOLD INCOME vs HEALTHCARE\n",
    "#=================================================="
   ]
  },
  {
   "cell_type": "code",
   "execution_count": 34,
   "metadata": {},
   "outputs": [
    {
     "name": "stdout",
     "output_type": "stream",
     "text": [
      "y = -0.0x +22.74\n",
      "The r (Correlation) is: -0.43\n"
     ]
    },
    {
     "data": {
      "image/png": "[encoded data removed]",
      "text/plain": [
       "<Figure size 432x288 with 1 Axes>"
      ]
     },
     "metadata": {
      "needs_background": "light"
     },
     "output_type": "display_data"
    }
   ],
   "source": [
    "# Identify the columns to be plotted\n",
    "income_df = df[\"income\"]\n",
    "healthcare_df = df[\"healthcare\"]\n",
    "\n",
    "# Define x and y variables\n",
    "x = income_df\n",
    "y = healthcare_df\n",
    "\n",
    "\n",
    "# pass the variables to the scatter function\n",
    "cccscatter(x,y,\"Income vs Healthcare\",\"Income\",\"Healthcare\")"
   ]
  },
  {
   "cell_type": "code",
   "execution_count": null,
   "metadata": {},
   "outputs": [],
   "source": []
  },
  {
   "cell_type": "code",
   "execution_count": null,
   "metadata": {},
   "outputs": [],
   "source": []
  }
 ],
 "metadata": {
  "kernelspec": {
   "display_name": "Python 3",
   "language": "python",
   "name": "python3"
  },
  "language_info": {
   "codemirror_mode": {
    "name": "ipython",
    "version": 3
   },
   "file_extension": ".py",
   "mimetype": "text/x-python",
   "name": "python",
   "nbconvert_exporter": "python",
   "pygments_lexer": "ipython3",
   "version": "3.7.4"
  }
 },
 "nbformat": 4,
 "nbformat_minor": 2
}
